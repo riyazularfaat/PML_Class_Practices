{
 "cells": [
  {
   "cell_type": "markdown",
   "metadata": {},
   "source": [
    "1. Write a program to print numbers from 1 to 10 using a for loop."
   ]
  },
  {
   "cell_type": "code",
   "execution_count": 29,
   "metadata": {},
   "outputs": [
    {
     "name": "stdout",
     "output_type": "stream",
     "text": [
      "1 2 3 4 5 6 7 8 9 10 "
     ]
    }
   ],
   "source": [
    "for num in range(1, 11): # range(1, 11) generates numbers from 1 to 10\n",
    "    print(num, end=' ') # print the number followed by a space"
   ]
  },
  {
   "cell_type": "markdown",
   "metadata": {},
   "source": [
    "2. Take a string (e.g., \"Python\") and print each character individually using a for loop."
   ]
  },
  {
   "cell_type": "code",
   "execution_count": 30,
   "metadata": {},
   "outputs": [
    {
     "name": "stdout",
     "output_type": "stream",
     "text": [
      "The characters of the string are:\n",
      "B  a  n  g  l  a  d  e  s  h  "
     ]
    }
   ],
   "source": [
    "text = \"Bangladesh\" # a string\n",
    "print(\"The characters of the string are:\")\n",
    "for char in text: # iterate over the characters of the string\n",
    "    print(char, end=\"  \") # print the character followed by a space"
   ]
  },
  {
   "cell_type": "markdown",
   "metadata": {},
   "source": [
    "3. Use the range() function to find the sum of numbers from 5 to 15."
   ]
  },
  {
   "cell_type": "code",
   "execution_count": 31,
   "metadata": {},
   "outputs": [
    {
     "name": "stdout",
     "output_type": "stream",
     "text": [
      "Sum of numbers from 5 to 15 is 110\n"
     ]
    }
   ],
   "source": [
    "sum = 0 # initialize sum to 0\n",
    "for num in range(5,16): # range(5, 16) generates numbers from 5 to 15\n",
    "    sum += num # add num to sum\n",
    "\n",
    "print(\"Sum of numbers from 5 to 15 is\", sum) # print the sum"
   ]
  },
  {
   "cell_type": "markdown",
   "metadata": {},
   "source": [
    "4. Given a list (e.g., [2, 4, 6, 8, 10]), multiply each item by 2 and print the result."
   ]
  },
  {
   "cell_type": "code",
   "execution_count": 32,
   "metadata": {},
   "outputs": [
    {
     "name": "stdout",
     "output_type": "stream",
     "text": [
      "2 * 2 = 4\n",
      "4 * 2 = 8\n",
      "6 * 2 = 12\n",
      "8 * 2 = 16\n",
      "10 * 2 = 20\n"
     ]
    }
   ],
   "source": [
    "myList = [2, 4, 6, 8, 10] # the given list\n",
    "for num in myList: # iterate through the list\n",
    "    mul = num*2 # multiplying the number in the list(myList) with 2\n",
    "    print(f\"{num} * 2 = {mul}\") # print the result"
   ]
  },
  {
   "cell_type": "markdown",
   "metadata": {},
   "source": [
    "5. Write a program to print numbers between 1 and 50 that are divisible by 5."
   ]
  },
  {
   "cell_type": "code",
   "execution_count": 33,
   "metadata": {},
   "outputs": [
    {
     "name": "stdout",
     "output_type": "stream",
     "text": [
      "Numbers divisible by 5 between 1 to 50 are:\n",
      "5 10 15 20 25 30 35 40 45 50 "
     ]
    }
   ],
   "source": [
    "print(\"Numbers divisible by 5 between 1 to 50 are:\")\n",
    "for num in range (1, 51): # range(1, 51) generates numbers from 1 to 50\n",
    "    if num % 5 == 0: # check if num is divisible by 5\n",
    "        print(num, end=' ') # print the number followed by a space"
   ]
  }
 ],
 "metadata": {
  "kernelspec": {
   "display_name": "Python 3",
   "language": "python",
   "name": "python3"
  },
  "language_info": {
   "codemirror_mode": {
    "name": "ipython",
    "version": 3
   },
   "file_extension": ".py",
   "mimetype": "text/x-python",
   "name": "python",
   "nbconvert_exporter": "python",
   "pygments_lexer": "ipython3",
   "version": "3.13.0"
  }
 },
 "nbformat": 4,
 "nbformat_minor": 2
}
